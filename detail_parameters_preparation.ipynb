{
 "cells": [
  {
   "cell_type": "code",
   "execution_count": null,
   "metadata": {},
   "outputs": [],
   "source": [
    "from IPython.core.interactiveshell import InteractiveShell\n",
    "InteractiveShell.ast_node_interactivity = \"all\""
   ]
  },
  {
   "cell_type": "code",
   "execution_count": null,
   "metadata": {},
   "outputs": [],
   "source": [
    "import pickle\n",
    "import numpy as np\n",
    "import pandas as pd\n",
    "import matplotlib.pyplot as plt\n",
    "import multiprocessing as mp\n",
    "import sparse_dot_topn\n",
    "import re"
   ]
  },
  {
   "cell_type": "markdown",
   "metadata": {},
   "source": [
    "# Loading data"
   ]
  },
  {
   "cell_type": "code",
   "execution_count": null,
   "metadata": {},
   "outputs": [],
   "source": [
    "df = pd.read_pickle('/mnt/data/mediascreen/sharedfolder/em/hrns_clean.gzip')"
   ]
  },
  {
   "cell_type": "code",
   "execution_count": null,
   "metadata": {},
   "outputs": [],
   "source": [
    "df.head()"
   ]
  },
  {
   "cell_type": "markdown",
   "metadata": {},
   "source": [
    "# Getting unique values"
   ]
  },
  {
   "cell_type": "code",
   "execution_count": null,
   "metadata": {},
   "outputs": [],
   "source": [
    "%%time\n",
    "id_unique_values = df.groupby(df['hrn_id']).agg({'hrn_type': lambda x: list(set(x)),\n",
    "                                             'first_name': lambda x: list(set(x)),\n",
    "                                             'middle_name': lambda x: list(set(x)),\n",
    "                                             'last_name': lambda x: list(set(x)),\n",
    "                                             'prefix': lambda x: list(set(x)),\n",
    "                                             'suffix': lambda x: list(set(x)),\n",
    "                                             'nationalities': lambda x: list(set(sum(x, []))),\n",
    "                                             'countries_residence': lambda x: list(set(sum(x, []))),\n",
    "                                             'dobs': lambda x: list(set(sum(x, []))),\n",
    "                                             'genders': lambda x: list(set(sum(x, [])))\n",
    "                                            })"
   ]
  },
  {
   "cell_type": "code",
   "execution_count": null,
   "metadata": {},
   "outputs": [],
   "source": [
    "len(id_unique_values)\n",
    "id_unique_values.head()"
   ]
  },
  {
   "cell_type": "markdown",
   "metadata": {},
   "source": [
    "We will combine nationalities and countries into 1 column"
   ]
  },
  {
   "cell_type": "code",
   "execution_count": null,
   "metadata": {},
   "outputs": [],
   "source": [
    "def get_gender(gender_list):\n",
    "    if len(gender_list) == 0:\n",
    "        gender = 'unknown'\n",
    "    elif gender_list[0] in ('male', 'female'):\n",
    "        gender = gender_list[0]\n",
    "    else:\n",
    "        gender = 'unknown'\n",
    "    return gender"
   ]
  },
  {
   "cell_type": "code",
   "execution_count": null,
   "metadata": {},
   "outputs": [],
   "source": [
    "id_unique_values['gender'] = id_unique_values['genders'].apply(lambda x: get_gender(x))\n",
    "\n",
    "id_unique_values_details = id_unique_values[['nationalities', 'countries_residence', 'dobs', 'gender']]\n",
    "\n",
    "id_unique_values_details['nationalities'] = (id_unique_values_details['nationalities'] + id_unique_values_details['countries_residence']).apply(lambda x: list(set(x)))\n",
    "\n",
    "id_unique_values_details = id_unique_values_details[['nationalities', 'dobs', 'gender']]"
   ]
  },
  {
   "cell_type": "code",
   "execution_count": null,
   "metadata": {},
   "outputs": [],
   "source": [
    "len(id_unique_values_details)\n",
    "id_unique_values_details.head()"
   ]
  },
  {
   "cell_type": "code",
   "execution_count": null,
   "metadata": {},
   "outputs": [],
   "source": [
    "id_unique_values_details.to_pickle('/mnt/data/mediascreen/sharedfolder/em/models/id_unique_values_details.pkl', compression= 'gzip')"
   ]
  },
  {
   "cell_type": "code",
   "execution_count": null,
   "metadata": {},
   "outputs": [],
   "source": []
  }
 ],
 "metadata": {
  "kernelspec": {
   "display_name": "poetry_em",
   "language": "python",
   "name": "poetry_em"
  },
  "language_info": {
   "codemirror_mode": {
    "name": "ipython",
    "version": 3
   },
   "file_extension": ".py",
   "mimetype": "text/x-python",
   "name": "python",
   "nbconvert_exporter": "python",
   "pygments_lexer": "ipython3",
   "version": "3.7.9"
  }
 },
 "nbformat": 4,
 "nbformat_minor": 4
}
